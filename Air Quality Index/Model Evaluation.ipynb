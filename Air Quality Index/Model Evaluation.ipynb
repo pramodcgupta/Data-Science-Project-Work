{
 "cells": [
  {
   "cell_type": "markdown",
   "metadata": {},
   "source": [
    "## Model Evaluation using saved Models"
   ]
  },
  {
   "cell_type": "code",
   "execution_count": 1,
   "metadata": {},
   "outputs": [],
   "source": [
    "import pandas as pd\n",
    "import numpy as np\n",
    "import matplotlib.pyplot as plt\n",
    "import seaborn as sns"
   ]
  },
  {
   "cell_type": "code",
   "execution_count": 2,
   "metadata": {},
   "outputs": [],
   "source": [
    "df=pd.read_csv('Data/Real-Data/real_Combine.csv')\n",
    "\n",
    "# All Features\n",
    "X=df.iloc[:,:-1]\n",
    "\n",
    "# Depedent Variable\n",
    "y=df.iloc[:,-1]\n",
    "\n",
    "from sklearn.model_selection import train_test_split\n",
    "X_train, X_test, y_train, y_test = train_test_split(X,y,test_size=0.30,random_state=0)"
   ]
  },
  {
   "cell_type": "code",
   "execution_count": 3,
   "metadata": {},
   "outputs": [],
   "source": [
    "# Function to load pickle file\n",
    "import pickle\n",
    "\n",
    "def load_pickle(filename):  \n",
    "    model=pickle.load(open(filename, 'rb'))\n",
    "    return model"
   ]
  },
  {
   "cell_type": "code",
   "execution_count": 4,
   "metadata": {},
   "outputs": [],
   "source": [
    "# Function to display performance metrix\n",
    "from sklearn import metrics\n",
    "\n",
    "def displayPredictionError(model):\n",
    "    prediction=model.predict(X_test)\n",
    "    #print(\"Coefficiant of Determination - R2 for Train Dataset: {}\".format(model.score(X_train, y_train)))\n",
    "    print(\"Coefficiant of Determination - R2 for Test Dataset: {}\".format(model.score(X_test, y_test)))\n",
    "    print('MAE:', metrics.mean_absolute_error(y_test, prediction))\n",
    "    print('MSE:', metrics.mean_squared_error(y_test, prediction))\n",
    "    print('RMSE:', np.sqrt(metrics.mean_squared_error(y_test, prediction)))\n",
    "    \n",
    "    "
   ]
  },
  {
   "cell_type": "markdown",
   "metadata": {},
   "source": [
    "## Linear Regression Model Performance"
   ]
  },
  {
   "cell_type": "code",
   "execution_count": 5,
   "metadata": {},
   "outputs": [
    {
     "name": "stdout",
     "output_type": "stream",
     "text": [
      "Coefficiant of Determination - R2 for Test Dataset: 0.5373677469098781\n",
      "MAE: 38.757073360593445\n",
      "MSE: 2907.500687115655\n",
      "RMSE: 53.92124522964631\n"
     ]
    }
   ],
   "source": [
    "lr_model=load_pickle('lin_regression_model.pkl')\n",
    "displayPredictionError(lr_model)"
   ]
  },
  {
   "cell_type": "markdown",
   "metadata": {},
   "source": [
    "## Ridge Regression Model Performance"
   ]
  },
  {
   "cell_type": "code",
   "execution_count": 6,
   "metadata": {},
   "outputs": [
    {
     "name": "stdout",
     "output_type": "stream",
     "text": [
      "Coefficiant of Determination - R2 for Test Dataset: -2888.6766248454624\n",
      "MAE: 38.35075692612564\n",
      "MSE: 2888.6766248454624\n",
      "RMSE: 53.74641034381238\n"
     ]
    }
   ],
   "source": [
    "ridge_model=load_pickle('ridge_regressor_model.pkl')\n",
    "displayPredictionError(ridge_model)"
   ]
  },
  {
   "cell_type": "markdown",
   "metadata": {},
   "source": [
    "## Lasso Regression Model Performance"
   ]
  },
  {
   "cell_type": "code",
   "execution_count": 7,
   "metadata": {},
   "outputs": [
    {
     "name": "stdout",
     "output_type": "stream",
     "text": [
      "Coefficiant of Determination - R2 for Test Dataset: -2888.6766248454624\n",
      "MAE: 38.35075692612564\n",
      "MSE: 2888.6766248454624\n",
      "RMSE: 53.74641034381238\n"
     ]
    }
   ],
   "source": [
    "lasso_model=load_pickle('lasso_regressor_model.pkl')\n",
    "displayPredictionError(lasso_model)"
   ]
  },
  {
   "cell_type": "markdown",
   "metadata": {},
   "source": [
    "## Decision Tree Model Performance"
   ]
  },
  {
   "cell_type": "code",
   "execution_count": 8,
   "metadata": {},
   "outputs": [
    {
     "name": "stdout",
     "output_type": "stream",
     "text": [
      "Coefficiant of Determination - R2 for Test Dataset: 0.6875647875559401\n",
      "MAE: 21.841666666666665\n",
      "MSE: 1963.5587203282828\n",
      "RMSE: 44.31206066443178\n"
     ]
    }
   ],
   "source": [
    "dtree_model=load_pickle('Dtree_regressor_model.pkl')\n",
    "displayPredictionError(dtree_model)"
   ]
  },
  {
   "cell_type": "markdown",
   "metadata": {},
   "source": [
    "# Decision Tree Hyper Tunned Model"
   ]
  },
  {
   "cell_type": "code",
   "execution_count": 9,
   "metadata": {},
   "outputs": [
    {
     "name": "stdout",
     "output_type": "stream",
     "text": [
      "Coefficiant of Determination - R2 for Test Dataset: -3200.0761645276452\n",
      "MAE: 40.992942726067234\n",
      "MSE: 3200.0761645276452\n",
      "RMSE: 56.569215696592835\n"
     ]
    }
   ],
   "source": [
    "dtree_hyper_model=load_pickle('Dtree_hyper_model.pkl')\n",
    "displayPredictionError(dtree_hyper_model)"
   ]
  }
 ],
 "metadata": {
  "kernelspec": {
   "display_name": "Python 3",
   "language": "python",
   "name": "python3"
  },
  "language_info": {
   "codemirror_mode": {
    "name": "ipython",
    "version": 3
   },
   "file_extension": ".py",
   "mimetype": "text/x-python",
   "name": "python",
   "nbconvert_exporter": "python",
   "pygments_lexer": "ipython3",
   "version": "3.7.1"
  }
 },
 "nbformat": 4,
 "nbformat_minor": 2
}
